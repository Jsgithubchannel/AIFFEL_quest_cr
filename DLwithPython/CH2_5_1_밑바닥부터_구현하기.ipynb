{
  "nbformat": 4,
  "nbformat_minor": 0,
  "metadata": {
    "colab": {
      "provenance": [],
      "authorship_tag": "ABX9TyNlyBKXk6vmEzR5LomSg6LB",
      "include_colab_link": true
    },
    "kernelspec": {
      "name": "python3",
      "display_name": "Python 3"
    },
    "language_info": {
      "name": "python"
    }
  },
  "cells": [
    {
      "cell_type": "markdown",
      "metadata": {
        "id": "view-in-github",
        "colab_type": "text"
      },
      "source": [
        "<a href=\"https://colab.research.google.com/github/Jsgithubchannel/AIFFEL_quest_cr/blob/main/%08DLwithPython/CH2_5_1_%EB%B0%91%EB%B0%94%EB%8B%A5%EB%B6%80%ED%84%B0_%EA%B5%AC%ED%98%84%ED%95%98%EA%B8%B0.ipynb\" target=\"_parent\"><img src=\"https://colab.research.google.com/assets/colab-badge.svg\" alt=\"Open In Colab\"/></a>"
      ]
    },
    {
      "cell_type": "code",
      "execution_count": 7,
      "metadata": {
        "id": "rj_qEbZvSIfc"
      },
      "outputs": [],
      "source": [
        "import tensorflow as tf\n",
        "\n",
        "# 단순 Dense 클래스\n",
        "class NaiveDense:\n",
        "  def __init__(self, input_size, output_size, activation):\n",
        "    self.activation = activation\n",
        "\n",
        "    w_shape = (input_size, output_size)\n",
        "    w_initial_value = tf.random.uniform(w_shape, minval=0, maxval=1e-1)\n",
        "    self.W = tf.Variable(w_initial_value)\n",
        "\n",
        "    b_shape = (output_size, )\n",
        "    b_initial_value = tf.zeros(b_shape)\n",
        "    self.b = tf.Variable(b_initial_value)\n",
        "\n",
        "  def __call__(self, inputs):\n",
        "    return self.activation(tf.matmul(inputs, self.W) + self.b)\n",
        "\n",
        "  @property\n",
        "  def weights(self):\n",
        "    return [self.W, self.b]"
      ]
    },
    {
      "cell_type": "code",
      "source": [
        "# 단순 Sequential 클래스\n",
        "class NaiveSequential:\n",
        "  def __init__(self, layers):\n",
        "    self.layers = layers\n",
        "  def __call__(self, inputs):\n",
        "    x = inputs\n",
        "    for layer in self.layers:\n",
        "      x = layer(x)\n",
        "    return x\n",
        "\n",
        "  @property\n",
        "  def weights(self):\n",
        "    weights = []\n",
        "    for layer in self.layers:\n",
        "      weights += layer.weights\n",
        "    return weights"
      ],
      "metadata": {
        "id": "s3rKpCfyS0v2"
      },
      "execution_count": 8,
      "outputs": []
    },
    {
      "cell_type": "code",
      "source": [
        "# 케라스와 유사한 모델 만들기\n",
        "model = NaiveSequential([\n",
        "    NaiveDense(input_size=28 * 28, output_size=512, activation = tf.nn.relu),\n",
        "    NaiveDense(input_size=512, output_size=10, activation = tf.nn.softmax)\n",
        "])\n",
        "assert len(model.weights) == 4"
      ],
      "metadata": {
        "id": "tCvZSz9yTZNJ"
      },
      "execution_count": 9,
      "outputs": []
    },
    {
      "cell_type": "code",
      "source": [
        "# 배치 제너레이터\n",
        "import math\n",
        "\n",
        "class BatchGenerator:\n",
        "  def __init__(self, images, labels, batch_size=128):\n",
        "    assert len(images) == len(labels)\n",
        "    self.index = 0\n",
        "    self.images = images\n",
        "    self.labels = labels\n",
        "    self.batch_size = batch_size\n",
        "    self.num_batches = math.ceil(len(images) / batch_size)\n",
        "\n",
        "  def next(self):\n",
        "    images = self.images[self.index : self.index + self.batch_size]\n",
        "    labels = self.labels[self.index : self.index + self.batch_size]\n",
        "    self.index += self.batch_size\n",
        "    return images, labels"
      ],
      "metadata": {
        "id": "o-Oiapm8Ti0o"
      },
      "execution_count": 10,
      "outputs": []
    },
    {
      "cell_type": "code",
      "source": [
        "# 훈련 스텝 실행\n",
        "\n",
        "## 가중치 업데이트 수동 구현\n",
        "# learning_rate = 1e-3\n",
        "\n",
        "# def update_weights(gradients, weights):\n",
        "#   for g, w in zip(gradients, weights):\n",
        "#     w.assign_sub(g * learning_rate)\n",
        "\n",
        "from tensorflow.keras import optimizers\n",
        "\n",
        "optimizer = optimizers.SGD(learning_rate=1e-3)\n",
        "\n",
        "def update_weights(gradients, weights):\n",
        "  optimizer.apply_gradients(zip(gradients, weights))\n",
        "\n",
        "def one_training_step(model, images_batch, labels_batch):\n",
        "  with tf.GradientTape() as tape:\n",
        "    predictions = model(images_batch)\n",
        "    per_sample_losses = tf.keras.losses.sparse_categorical_crossentropy(\n",
        "        labels_batch, predictions)\n",
        "    average_loss = tf.reduce_mean(per_sample_losses)\n",
        "  gradients = tape.gradient(average_loss, model.weights) # 가중치에 대한 손실의 그레이디언트 계산\n",
        "  update_weights(gradients, model.weights)\n",
        "  return average_loss"
      ],
      "metadata": {
        "id": "25fBMKDyT9VX"
      },
      "execution_count": 14,
      "outputs": []
    },
    {
      "cell_type": "code",
      "source": [
        "# 전체 훈련 루프\n",
        "def fit(model, images, labels, epochs, batch_size=128):\n",
        "  for epoch_counter in range(epochs):\n",
        "    print(f\"에포크 {epoch_counter}\")\n",
        "    batch_generator = BatchGenerator(images, labels)\n",
        "    for batch_counter in range(batch_generator.num_batches):\n",
        "      images_batch, labels_batch = batch_generator.next()\n",
        "      loss = one_training_step(model, images_batch, labels_batch)\n",
        "      if batch_counter % 100 == 0:\n",
        "        print(f\"{batch_counter}번째 배치 손실: {loss: .2f}\")"
      ],
      "metadata": {
        "id": "V-75z_RAVOrz"
      },
      "execution_count": 15,
      "outputs": []
    },
    {
      "cell_type": "code",
      "source": [
        "# 함수 테스트\n",
        "from tensorflow.keras.datasets import mnist\n",
        "(train_images, train_labels), (test_images, test_labels) = mnist.load_data()\n",
        "\n",
        "train_images = train_images.reshape((60000, 28 * 28))\n",
        "train_images = train_images.astype(\"float32\") / 255\n",
        "test_images = test_images.reshape((10000, 28 * 28))\n",
        "test_images = test_images.astype(\"float32\") / 255\n",
        "\n",
        "fit(model, train_images, train_labels, epochs=10, batch_size=128)"
      ],
      "metadata": {
        "colab": {
          "base_uri": "https://localhost:8080/"
        },
        "id": "y6kQLpCGVyuz",
        "outputId": "bef6f8f6-f772-417a-b922-0b11330c7d20"
      },
      "execution_count": 16,
      "outputs": [
        {
          "output_type": "stream",
          "name": "stdout",
          "text": [
            "Downloading data from https://storage.googleapis.com/tensorflow/tf-keras-datasets/mnist.npz\n",
            "\u001b[1m11490434/11490434\u001b[0m \u001b[32m━━━━━━━━━━━━━━━━━━━━\u001b[0m\u001b[37m\u001b[0m \u001b[1m0s\u001b[0m 0us/step\n",
            "에포크 0\n",
            "0번째 배치 손실:  6.56\n",
            "100번째 배치 손실:  2.23\n",
            "200번째 배치 손실:  2.20\n",
            "300번째 배치 손실:  2.09\n",
            "400번째 배치 손실:  2.24\n",
            "에포크 1\n",
            "0번째 배치 손실:  1.90\n",
            "100번째 배치 손실:  1.87\n",
            "200번째 배치 손실:  1.82\n",
            "300번째 배치 손실:  1.72\n",
            "400번째 배치 손실:  1.84\n",
            "에포크 2\n",
            "0번째 배치 손실:  1.58\n",
            "100번째 배치 손실:  1.57\n",
            "200번째 배치 손실:  1.49\n",
            "300번째 배치 손실:  1.43\n",
            "400번째 배치 손실:  1.51\n",
            "에포크 3\n",
            "0번째 배치 손실:  1.31\n",
            "100번째 배치 손실:  1.33\n",
            "200번째 배치 손실:  1.22\n",
            "300번째 배치 손실:  1.21\n",
            "400번째 배치 손실:  1.27\n",
            "에포크 4\n",
            "0번째 배치 손실:  1.11\n",
            "100번째 배치 손실:  1.15\n",
            "200번째 배치 손실:  1.03\n",
            "300번째 배치 손실:  1.05\n",
            "400번째 배치 손실:  1.10\n",
            "에포크 5\n",
            "0번째 배치 손실:  0.97\n",
            "100번째 배치 손실:  1.02\n",
            "200번째 배치 손실:  0.90\n",
            "300번째 배치 손실:  0.93\n",
            "400번째 배치 손실:  0.98\n",
            "에포크 6\n",
            "0번째 배치 손실:  0.86\n",
            "100번째 배치 손실:  0.91\n",
            "200번째 배치 손실:  0.80\n",
            "300번째 배치 손실:  0.84\n",
            "400번째 배치 손실:  0.89\n",
            "에포크 7\n",
            "0번째 배치 손실:  0.78\n",
            "100번째 배치 손실:  0.83\n",
            "200번째 배치 손실:  0.72\n",
            "300번째 배치 손실:  0.78\n",
            "400번째 배치 손실:  0.83\n",
            "에포크 8\n",
            "0번째 배치 손실:  0.72\n",
            "100번째 배치 손실:  0.76\n",
            "200번째 배치 손실:  0.66\n",
            "300번째 배치 손실:  0.72\n",
            "400번째 배치 손실:  0.77\n",
            "에포크 9\n",
            "0번째 배치 손실:  0.67\n",
            "100번째 배치 손실:  0.71\n",
            "200번째 배치 손실:  0.61\n",
            "300번째 배치 손실:  0.68\n",
            "400번째 배치 손실:  0.73\n"
          ]
        }
      ]
    },
    {
      "cell_type": "code",
      "source": [
        "# 모델 평가\n",
        "import numpy as np\n",
        "predictions = model(test_images)\n",
        "predictions = predictions.numpy()\n",
        "predicted_labels = np.argmax(predictions, axis=1)\n",
        "matches = predicted_labels == test_labels\n",
        "print(f\"정확도: {matches.mean(): .2f}\")"
      ],
      "metadata": {
        "colab": {
          "base_uri": "https://localhost:8080/"
        },
        "id": "_d_FVG-qV9-G",
        "outputId": "31289dc6-13e0-49b1-d2d3-bad3c5ce165d"
      },
      "execution_count": 19,
      "outputs": [
        {
          "output_type": "stream",
          "name": "stdout",
          "text": [
            "정확도:  0.82\n"
          ]
        }
      ]
    },
    {
      "cell_type": "code",
      "source": [
        "predictions[0].argmax()"
      ],
      "metadata": {
        "colab": {
          "base_uri": "https://localhost:8080/"
        },
        "id": "0Ckrqvc7WWjK",
        "outputId": "c5b90612-e3c2-4ffb-87a1-489d33e72df5"
      },
      "execution_count": 26,
      "outputs": [
        {
          "output_type": "execute_result",
          "data": {
            "text/plain": [
              "7"
            ]
          },
          "metadata": {},
          "execution_count": 26
        }
      ]
    },
    {
      "cell_type": "code",
      "source": [],
      "metadata": {
        "id": "JQj3jt69WsJ6"
      },
      "execution_count": null,
      "outputs": []
    }
  ]
}