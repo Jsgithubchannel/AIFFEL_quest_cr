{
 "cells": [
  {
   "cell_type": "markdown",
   "id": "90ddc0a8",
   "metadata": {},
   "source": [
    "1. Abstractive 모델 구성을 위한 텍스트 전처리 단계가 체계적으로 진행되었다.\n",
    "- 분석단계, 정제단계, 정규화와 불용어 제거, 데이터셋 분리, 인코딩 과정이 빠짐없이 체계적으로 진행되었다.\n",
    "\n",
    "2. 텍스트 요약모델이 성공적으로 학습되었음을 확인하였다.\t\n",
    "- 모델 학습이 진행되면서 train loss와 validation loss가 감소하는 경향을 그래프를 통해 확인했으며, 실제 요약문에 있는 핵심 단어들이 요약 문장 안에 포함되었다.\n",
    "\n",
    "3. Extractive 요약을 시도해 보고 Abstractive 요약 결과과 함께 비교해 보았다.\t\n",
    "- 두 요약 결과를 문법완성도 측면과 핵심단어 포함 측면으로 나누어 비교하고 분석 결과를 표로 정리하여 제시하였다."
   ]
  },
  {
   "cell_type": "code",
   "execution_count": 1,
   "id": "02406ee0",
   "metadata": {},
   "outputs": [
    {
     "name": "stderr",
     "output_type": "stream",
     "text": [
      "[nltk_data] Downloading package stopwords to /aiffel/nltk_data...\n",
      "[nltk_data]   Unzipping corpora/stopwords.zip.\n"
     ]
    }
   ],
   "source": [
    "import nltk\n",
    "nltk.download('stopwords')\n",
    "\n",
    "import numpy as np\n",
    "import pandas as pd\n",
    "import os\n",
    "import re\n",
    "import matplotlib.pyplot as plt\n",
    "from nltk.corpus import stopwords\n",
    "from bs4 import BeautifulSoup \n",
    "from tensorflow.keras.preprocessing.text import Tokenizer \n",
    "from tensorflow.keras.preprocessing.sequence import pad_sequences\n",
    "import urllib.request\n",
    "import warnings\n",
    "warnings.filterwarnings(\"ignore\", category=UserWarning, module='bs4')"
   ]
  },
  {
   "cell_type": "markdown",
   "id": "c653fab0",
   "metadata": {},
   "source": [
    "# Step 1. 데이터 수집하기"
   ]
  },
  {
   "cell_type": "code",
   "execution_count": 2,
   "id": "67677b5b",
   "metadata": {},
   "outputs": [
    {
     "name": "stdout",
     "output_type": "stream",
     "text": [
      "전체 샘플수 : 98401\n"
     ]
    }
   ],
   "source": [
    "import urllib.request\n",
    "urllib.request.urlretrieve(\"https://raw.githubusercontent.com/sunnysai12345/News_Summary/master/news_summary_more.csv\", filename=\"news_summary_more.csv\")\n",
    "data = pd.read_csv('news_summary_more.csv', encoding='iso-8859-1')\n",
    "\n",
    "print('전체 샘플수 :', (len(data)))"
   ]
  },
  {
   "cell_type": "code",
   "execution_count": 3,
   "id": "8f2c28e0",
   "metadata": {},
   "outputs": [
    {
     "data": {
      "text/html": [
       "<div>\n",
       "<style scoped>\n",
       "    .dataframe tbody tr th:only-of-type {\n",
       "        vertical-align: middle;\n",
       "    }\n",
       "\n",
       "    .dataframe tbody tr th {\n",
       "        vertical-align: top;\n",
       "    }\n",
       "\n",
       "    .dataframe thead th {\n",
       "        text-align: right;\n",
       "    }\n",
       "</style>\n",
       "<table border=\"1\" class=\"dataframe\">\n",
       "  <thead>\n",
       "    <tr style=\"text-align: right;\">\n",
       "      <th></th>\n",
       "      <th>headlines</th>\n",
       "      <th>text</th>\n",
       "    </tr>\n",
       "  </thead>\n",
       "  <tbody>\n",
       "    <tr>\n",
       "      <th>77299</th>\n",
       "      <td>Kapil Sharma wishes Sunil Grover on his 40th b...</td>\n",
       "      <td>Comedian Kapil Sharma took to Twitter to wish ...</td>\n",
       "    </tr>\n",
       "    <tr>\n",
       "      <th>72695</th>\n",
       "      <td>Bird Group interested to buy Air India's groun...</td>\n",
       "      <td>Indian aviation services firm Bird Group has w...</td>\n",
       "    </tr>\n",
       "    <tr>\n",
       "      <th>23482</th>\n",
       "      <td>1st black captain of Windies made cameo in a R...</td>\n",
       "      <td>Sir Frank Worrell, the first black captain of ...</td>\n",
       "    </tr>\n",
       "    <tr>\n",
       "      <th>1418</th>\n",
       "      <td>Malaika trolled for 20-yr-old pic in 10-yr-cha...</td>\n",
       "      <td>Malaika Arora got trolled on Instagram after s...</td>\n",
       "    </tr>\n",
       "    <tr>\n",
       "      <th>58485</th>\n",
       "      <td>I never carry money, I don't even have a credi...</td>\n",
       "      <td>India's richest person Mukesh Ambani, who has ...</td>\n",
       "    </tr>\n",
       "    <tr>\n",
       "      <th>35379</th>\n",
       "      <td>Man posed as a doctor at AIIMS Delhi, caught a...</td>\n",
       "      <td>A 19-year-old man has been arrested after he a...</td>\n",
       "    </tr>\n",
       "    <tr>\n",
       "      <th>80709</th>\n",
       "      <td>Surging heat may force flights to cut down wei...</td>\n",
       "      <td>Rising temperatures due to climate change may ...</td>\n",
       "    </tr>\n",
       "    <tr>\n",
       "      <th>15760</th>\n",
       "      <td>24-year-old OYO founder Ritesh youngest on Hur...</td>\n",
       "      <td>Hotel aggregator OYO Rooms' 24-year-old Founde...</td>\n",
       "    </tr>\n",
       "    <tr>\n",
       "      <th>79763</th>\n",
       "      <td>Airlines lift ban on MP who manhandled airline...</td>\n",
       "      <td>Four airlines including IndiGo, Air India, Spi...</td>\n",
       "    </tr>\n",
       "    <tr>\n",
       "      <th>71696</th>\n",
       "      <td>SC asks Google, FB to give inputs on content c...</td>\n",
       "      <td>The Supreme Court on Tuesday asked Google, Fac...</td>\n",
       "    </tr>\n",
       "  </tbody>\n",
       "</table>\n",
       "</div>"
      ],
      "text/plain": [
       "                                               headlines  \\\n",
       "77299  Kapil Sharma wishes Sunil Grover on his 40th b...   \n",
       "72695  Bird Group interested to buy Air India's groun...   \n",
       "23482  1st black captain of Windies made cameo in a R...   \n",
       "1418   Malaika trolled for 20-yr-old pic in 10-yr-cha...   \n",
       "58485  I never carry money, I don't even have a credi...   \n",
       "35379  Man posed as a doctor at AIIMS Delhi, caught a...   \n",
       "80709  Surging heat may force flights to cut down wei...   \n",
       "15760  24-year-old OYO founder Ritesh youngest on Hur...   \n",
       "79763  Airlines lift ban on MP who manhandled airline...   \n",
       "71696  SC asks Google, FB to give inputs on content c...   \n",
       "\n",
       "                                                    text  \n",
       "77299  Comedian Kapil Sharma took to Twitter to wish ...  \n",
       "72695  Indian aviation services firm Bird Group has w...  \n",
       "23482  Sir Frank Worrell, the first black captain of ...  \n",
       "1418   Malaika Arora got trolled on Instagram after s...  \n",
       "58485  India's richest person Mukesh Ambani, who has ...  \n",
       "35379  A 19-year-old man has been arrested after he a...  \n",
       "80709  Rising temperatures due to climate change may ...  \n",
       "15760  Hotel aggregator OYO Rooms' 24-year-old Founde...  \n",
       "79763  Four airlines including IndiGo, Air India, Spi...  \n",
       "71696  The Supreme Court on Tuesday asked Google, Fac...  "
      ]
     },
     "execution_count": 3,
     "metadata": {},
     "output_type": "execute_result"
    }
   ],
   "source": [
    "data.sample(10)"
   ]
  },
  {
   "cell_type": "markdown",
   "id": "cc86f898",
   "metadata": {},
   "source": [
    "# Step 2. 데이터 전처리하기 (추상적 요약)\n",
    "실습에서 사용된 전처리를 참고하여 각자 필요하다고 생각하는 전처리를 추가 사용하여 텍스트를 정규화 또는 정제해 보세요. 만약, 불용어 제거를 선택한다면 상대적으로 길이가 짧은 요약 데이터에 대해서도 불용어를 제거하는 것이 좋을지 고민해 보세요."
   ]
  },
  {
   "cell_type": "markdown",
   "id": "37a4249d",
   "metadata": {},
   "source": [
    "## 중복 샘플과 NULL 값이 존재하는 샘플 제거"
   ]
  },
  {
   "cell_type": "code",
   "execution_count": 4,
   "id": "fb65152a",
   "metadata": {},
   "outputs": [
    {
     "name": "stdout",
     "output_type": "stream",
     "text": [
      "headlines 열에서 중복을 배제한 유일한 샘플의 수 : 98280\n",
      "text 열에서 중복을 배제한 유일한 샘플의 수 : 98360\n"
     ]
    }
   ],
   "source": [
    "print('headlines 열에서 중복을 배제한 유일한 샘플의 수 :', data['headlines'].nunique())\n",
    "print('text 열에서 중복을 배제한 유일한 샘플의 수 :', data['text'].nunique())"
   ]
  },
  {
   "cell_type": "code",
   "execution_count": 5,
   "id": "924d3a54",
   "metadata": {
    "scrolled": true
   },
   "outputs": [
    {
     "name": "stdout",
     "output_type": "stream",
     "text": [
      "전체 샘플수 : 98360\n"
     ]
    }
   ],
   "source": [
    "data.drop_duplicates(subset = ['text'], inplace=True)\n",
    "print('전체 샘플수 :', (len(data)))"
   ]
  },
  {
   "cell_type": "markdown",
   "id": "6c3656db",
   "metadata": {},
   "source": [
    "## 텍스트 정규화와 불용어 제거"
   ]
  },
  {
   "cell_type": "code",
   "execution_count": 6,
   "id": "8f3e30df",
   "metadata": {},
   "outputs": [
    {
     "name": "stdout",
     "output_type": "stream",
     "text": [
      "정규화 사전의 수:  120\n"
     ]
    }
   ],
   "source": [
    "contractions = {\"ain't\": \"is not\", \"aren't\": \"are not\",\"can't\": \"cannot\", \"'cause\": \"because\", \"could've\": \"could have\", \"couldn't\": \"could not\",\n",
    "                           \"didn't\": \"did not\",  \"doesn't\": \"does not\", \"don't\": \"do not\", \"hadn't\": \"had not\", \"hasn't\": \"has not\", \"haven't\": \"have not\",\n",
    "                           \"he'd\": \"he would\",\"he'll\": \"he will\", \"he's\": \"he is\", \"how'd\": \"how did\", \"how'd'y\": \"how do you\", \"how'll\": \"how will\", \"how's\": \"how is\",\n",
    "                           \"I'd\": \"I would\", \"I'd've\": \"I would have\", \"I'll\": \"I will\", \"I'll've\": \"I will have\",\"I'm\": \"I am\", \"I've\": \"I have\", \"i'd\": \"i would\",\n",
    "                           \"i'd've\": \"i would have\", \"i'll\": \"i will\",  \"i'll've\": \"i will have\",\"i'm\": \"i am\", \"i've\": \"i have\", \"isn't\": \"is not\", \"it'd\": \"it would\",\n",
    "                           \"it'd've\": \"it would have\", \"it'll\": \"it will\", \"it'll've\": \"it will have\",\"it's\": \"it is\", \"let's\": \"let us\", \"ma'am\": \"madam\",\n",
    "                           \"mayn't\": \"may not\", \"might've\": \"might have\",\"mightn't\": \"might not\",\"mightn't've\": \"might not have\", \"must've\": \"must have\",\n",
    "                           \"mustn't\": \"must not\", \"mustn't've\": \"must not have\", \"needn't\": \"need not\", \"needn't've\": \"need not have\",\"o'clock\": \"of the clock\",\n",
    "                           \"oughtn't\": \"ought not\", \"oughtn't've\": \"ought not have\", \"shan't\": \"shall not\", \"sha'n't\": \"shall not\", \"shan't've\": \"shall not have\",\n",
    "                           \"she'd\": \"she would\", \"she'd've\": \"she would have\", \"she'll\": \"she will\", \"she'll've\": \"she will have\", \"she's\": \"she is\",\n",
    "                           \"should've\": \"should have\", \"shouldn't\": \"should not\", \"shouldn't've\": \"should not have\", \"so've\": \"so have\",\"so's\": \"so as\",\n",
    "                           \"this's\": \"this is\",\"that'd\": \"that would\", \"that'd've\": \"that would have\", \"that's\": \"that is\", \"there'd\": \"there would\",\n",
    "                           \"there'd've\": \"there would have\", \"there's\": \"there is\", \"here's\": \"here is\",\"they'd\": \"they would\", \"they'd've\": \"they would have\",\n",
    "                           \"they'll\": \"they will\", \"they'll've\": \"they will have\", \"they're\": \"they are\", \"they've\": \"they have\", \"to've\": \"to have\",\n",
    "                           \"wasn't\": \"was not\", \"we'd\": \"we would\", \"we'd've\": \"we would have\", \"we'll\": \"we will\", \"we'll've\": \"we will have\", \"we're\": \"we are\",\n",
    "                           \"we've\": \"we have\", \"weren't\": \"were not\", \"what'll\": \"what will\", \"what'll've\": \"what will have\", \"what're\": \"what are\",\n",
    "                           \"what's\": \"what is\", \"what've\": \"what have\", \"when's\": \"when is\", \"when've\": \"when have\", \"where'd\": \"where did\", \"where's\": \"where is\",\n",
    "                           \"where've\": \"where have\", \"who'll\": \"who will\", \"who'll've\": \"who will have\", \"who's\": \"who is\", \"who've\": \"who have\",\n",
    "                           \"why's\": \"why is\", \"why've\": \"why have\", \"will've\": \"will have\", \"won't\": \"will not\", \"won't've\": \"will not have\",\n",
    "                           \"would've\": \"would have\", \"wouldn't\": \"would not\", \"wouldn't've\": \"would not have\", \"y'all\": \"you all\",\n",
    "                           \"y'all'd\": \"you all would\",\"y'all'd've\": \"you all would have\",\"y'all're\": \"you all are\",\"y'all've\": \"you all have\",\n",
    "                           \"you'd\": \"you would\", \"you'd've\": \"you would have\", \"you'll\": \"you will\", \"you'll've\": \"you will have\",\n",
    "                           \"you're\": \"you are\", \"you've\": \"you have\"}\n",
    "\n",
    "print(\"정규화 사전의 수: \", len(contractions))"
   ]
  },
  {
   "cell_type": "code",
   "execution_count": 7,
   "id": "d8878843",
   "metadata": {},
   "outputs": [
    {
     "name": "stdout",
     "output_type": "stream",
     "text": [
      "불용어 개수 : 198\n",
      "['a', 'about', 'above', 'after', 'again', 'against', 'ain', 'all', 'am', 'an', 'and', 'any', 'are', 'aren', \"aren't\", 'as', 'at', 'be', 'because', 'been', 'before', 'being', 'below', 'between', 'both', 'but', 'by', 'can', 'couldn', \"couldn't\", 'd', 'did', 'didn', \"didn't\", 'do', 'does', 'doesn', \"doesn't\", 'doing', 'don', \"don't\", 'down', 'during', 'each', 'few', 'for', 'from', 'further', 'had', 'hadn', \"hadn't\", 'has', 'hasn', \"hasn't\", 'have', 'haven', \"haven't\", 'having', 'he', \"he'd\", \"he'll\", 'her', 'here', 'hers', 'herself', \"he's\", 'him', 'himself', 'his', 'how', 'i', \"i'd\", 'if', \"i'll\", \"i'm\", 'in', 'into', 'is', 'isn', \"isn't\", 'it', \"it'd\", \"it'll\", \"it's\", 'its', 'itself', \"i've\", 'just', 'll', 'm', 'ma', 'me', 'mightn', \"mightn't\", 'more', 'most', 'mustn', \"mustn't\", 'my', 'myself', 'needn', \"needn't\", 'no', 'nor', 'not', 'now', 'o', 'of', 'off', 'on', 'once', 'only', 'or', 'other', 'our', 'ours', 'ourselves', 'out', 'over', 'own', 're', 's', 'same', 'shan', \"shan't\", 'she', \"she'd\", \"she'll\", \"she's\", 'should', 'shouldn', \"shouldn't\", \"should've\", 'so', 'some', 'such', 't', 'than', 'that', \"that'll\", 'the', 'their', 'theirs', 'them', 'themselves', 'then', 'there', 'these', 'they', \"they'd\", \"they'll\", \"they're\", \"they've\", 'this', 'those', 'through', 'to', 'too', 'under', 'until', 'up', 've', 'very', 'was', 'wasn', \"wasn't\", 'we', \"we'd\", \"we'll\", \"we're\", 'were', 'weren', \"weren't\", \"we've\", 'what', 'when', 'where', 'which', 'while', 'who', 'whom', 'why', 'will', 'with', 'won', \"won't\", 'wouldn', \"wouldn't\", 'y', 'you', \"you'd\", \"you'll\", 'your', \"you're\", 'yours', 'yourself', 'yourselves', \"you've\"]\n"
     ]
    }
   ],
   "source": [
    "print('불용어 개수 :', len(stopwords.words('english') ))\n",
    "print(stopwords.words('english'))"
   ]
  },
  {
   "cell_type": "markdown",
   "id": "de745a58",
   "metadata": {},
   "source": [
    "### 불용어 제거 및 텍스트 전처리"
   ]
  },
  {
   "cell_type": "code",
   "execution_count": 8,
   "id": "4ab3095d",
   "metadata": {},
   "outputs": [],
   "source": [
    "# 데이터 전처리 함수\n",
    "def preprocess_sentence(sentence, remove_stopwords=True):\n",
    "    sentence = sentence.lower() # 텍스트 소문자화\n",
    "    sentence = BeautifulSoup(sentence, \"lxml\").text # <br />, <a href = ...> 등의 html 태그 제거\n",
    "    sentence = re.sub(r'\\([^)]*\\)', '', sentence) # 괄호로 닫힌 문자열 (...) 제거 Ex) my husband (and myself!) for => my husband for\n",
    "    sentence = re.sub('\"','', sentence) # 쌍따옴표 \" 제거\n",
    "    sentence = ' '.join([contractions[t] if t in contractions else t for t in sentence.split(\" \")]) # 약어 정규화\n",
    "    sentence = re.sub(r\"'s\\b\",\"\", sentence) # 소유격 제거. Ex) roland's -> roland\n",
    "    sentence = re.sub(\"[^a-zA-Z]\", \" \", sentence) # 영어 외 문자(숫자, 특수문자 등) 공백으로 변환\n",
    "    sentence = re.sub('[m]{2,}', 'mm', sentence) # m이 3개 이상이면 2개로 변경. Ex) ummmmmmm yeah -> umm yeah\n",
    "    \n",
    "    # 불용어 제거\n",
    "    if remove_stopwords:\n",
    "        tokens = ' '.join(word for word in sentence.split() if not word in stopwords.words('english') if len(word)>1)\n",
    "    # 불용어 미제거\n",
    "    else:\n",
    "        tokens = ' '.join(word for word in sentence.split() if len(word) > 1)\n",
    "    return tokens\n",
    "        "
   ]
  },
  {
   "cell_type": "code",
   "execution_count": 9,
   "id": "fac1ecdb",
   "metadata": {},
   "outputs": [
    {
     "name": "stdout",
     "output_type": "stream",
     "text": [
      "text 전처리 후 결과:  0    saurav kant alumnus upgrad iiit pg program mac...\n",
      "1    kunal shah credit card bill payment platform c...\n",
      "2    new zealand defeated india wickets fourth odi ...\n",
      "3    aegon life iterm insurance plan customers enjo...\n",
      "4    speaking sexual harassment allegations rajkuma...\n",
      "Name: text, dtype: object\n"
     ]
    }
   ],
   "source": [
    "clean_text = data['text'].map(lambda x: preprocess_sentence(x))\n",
    "\n",
    "print(\"text 전처리 후 결과: \", clean_text[:5])"
   ]
  },
  {
   "cell_type": "code",
   "execution_count": 10,
   "id": "ece629ac",
   "metadata": {},
   "outputs": [
    {
     "name": "stdout",
     "output_type": "stream",
     "text": [
      "headlines 전처리 후 결과:  0     upgrad learner switches career ml al salary hike\n",
      "1     delhi techie wins free food swiggy one year cred\n",
      "2    new zealand end rohit sharma led india match w...\n",
      "3    aegon life iterm insurance plan helps customer...\n",
      "4             known hirani yrs metoo claims true sonam\n",
      "Name: headlines, dtype: object\n"
     ]
    }
   ],
   "source": [
    "clean_headlines = data['headlines'].map(lambda x: preprocess_sentence(x))\n",
    "\n",
    "print(\"headlines 전처리 후 결과: \", clean_headlines[:5])"
   ]
  },
  {
   "cell_type": "code",
   "execution_count": 11,
   "id": "5f9e68ea",
   "metadata": {},
   "outputs": [],
   "source": [
    "data['text'] = clean_text\n",
    "data['headlines'] = clean_headlines\n",
    "\n",
    "# 빈 값을 Null 값으로 변환\n",
    "data.replace('', np.nan, inplace=True)"
   ]
  },
  {
   "cell_type": "code",
   "execution_count": 12,
   "id": "47813c8c",
   "metadata": {},
   "outputs": [
    {
     "name": "stdout",
     "output_type": "stream",
     "text": [
      "전체 샘플수 : 98360\n"
     ]
    }
   ],
   "source": [
    "data.dropna(axis=0, inplace=True)\n",
    "print('전체 샘플수 :', (len(data)))"
   ]
  },
  {
   "cell_type": "markdown",
   "id": "9011b10e",
   "metadata": {},
   "source": [
    "### Null 값 확인"
   ]
  },
  {
   "cell_type": "code",
   "execution_count": 13,
   "id": "a553245c",
   "metadata": {},
   "outputs": [
    {
     "name": "stdout",
     "output_type": "stream",
     "text": [
      "headlines    0\n",
      "text         0\n",
      "dtype: int64\n"
     ]
    }
   ],
   "source": [
    "print(data.isnull().sum())"
   ]
  },
  {
   "cell_type": "markdown",
   "id": "4ab171f3",
   "metadata": {},
   "source": [
    "## 훈련데이터와 테스트데이터 나누기"
   ]
  },
  {
   "cell_type": "markdown",
   "id": "b911340d",
   "metadata": {},
   "source": [
    "### 샘플의 최대 길이 정하기"
   ]
  },
  {
   "cell_type": "code",
   "execution_count": 14,
   "id": "df05b9c1",
   "metadata": {},
   "outputs": [
    {
     "name": "stdout",
     "output_type": "stream",
     "text": [
      "텍스트의 최소 길이 : 1\n",
      "텍스트의 최대 길이 : 60\n",
      "텍스트의 평균 길이 : 35.09968483123221\n",
      "제목의 최소 길이 : 1\n",
      "제목의 최대 길이 : 13\n",
      "제목의 평균 길이 : 7.136183407889386\n"
     ]
    },
    {
     "data": {
      "image/png": "[encoded data removed]",
      "text/plain": [
       "<Figure size 432x288 with 2 Axes>"
      ]
     },
     "metadata": {
      "needs_background": "light"
     },
     "output_type": "display_data"
    },
    {
     "data": {
      "image/png": "[encoded data removed]",
      "text/plain": [
       "<Figure size 432x288 with 1 Axes>"
      ]
     },
     "metadata": {
      "needs_background": "light"
     },
     "output_type": "display_data"
    },
    {
     "data": {
      "image/png": "[encoded data removed]",
      "text/plain": [
       "<Figure size 432x288 with 1 Axes>"
      ]
     },
     "metadata": {
      "needs_background": "light"
     },
     "output_type": "display_data"
    }
   ],
   "source": [
    "# 길이 분포 출력\n",
    "import matplotlib.pyplot as plt\n",
    "\n",
    "text_len = [len(s.split()) for s in data['text']]\n",
    "headlines_len = [len(s.split()) for s in data['headlines']]\n",
    "\n",
    "print('텍스트의 최소 길이 : {}'.format(np.min(text_len)))\n",
    "print('텍스트의 최대 길이 : {}'.format(np.max(text_len)))\n",
    "print('텍스트의 평균 길이 : {}'.format(np.mean(text_len)))\n",
    "print('제목의 최소 길이 : {}'.format(np.min(headlines_len)))\n",
    "print('제목의 최대 길이 : {}'.format(np.max(headlines_len)))\n",
    "print('제목의 평균 길이 : {}'.format(np.mean(headlines_len)))\n",
    "\n",
    "plt.subplot(1,2,1)\n",
    "plt.boxplot(text_len)\n",
    "plt.title('Text')\n",
    "plt.subplot(1,2,2)\n",
    "plt.boxplot(headlines_len)\n",
    "plt.title('Headlines')\n",
    "plt.tight_layout()\n",
    "plt.show()\n",
    "\n",
    "plt.title('Text')\n",
    "plt.hist(text_len, bins = 40)\n",
    "plt.xlabel('length of samples')\n",
    "plt.ylabel('number of samples')\n",
    "plt.show()\n",
    "\n",
    "plt.title('Headlines')\n",
    "plt.hist(headlines_len, bins = 40)\n",
    "plt.xlabel('length of samples')\n",
    "plt.ylabel('number of samples')\n",
    "plt.show()"
   ]
  },
  {
   "cell_type": "markdown",
   "id": "22efaa25",
   "metadata": {},
   "source": [
    "### 전체 샘플 중 길이가 %s 이하인 샘플의 비율 확인 -> 따로 처리 X"
   ]
  },
  {
   "cell_type": "code",
   "execution_count": 15,
   "id": "3e2c7912",
   "metadata": {},
   "outputs": [],
   "source": [
    "text_max_len = 40\n",
    "headlines_max_len = 8"
   ]
  },
  {
   "cell_type": "code",
   "execution_count": 16,
   "id": "6e669d8e",
   "metadata": {},
   "outputs": [],
   "source": [
    "def below_threshold_len(max_len, nested_list):\n",
    "  cnt = 0\n",
    "  for s in nested_list:\n",
    "    if(len(s.split()) <= max_len):\n",
    "        cnt = cnt + 1\n",
    "  print('전체 샘플 중 길이가 %s 이하인 샘플의 비율: %s'%(max_len, (cnt / len(nested_list))))"
   ]
  },
  {
   "cell_type": "code",
   "execution_count": 17,
   "id": "c7677262",
   "metadata": {},
   "outputs": [
    {
     "name": "stdout",
     "output_type": "stream",
     "text": [
      "전체 샘플 중 길이가 40 이하인 샘플의 비율: 0.9238714924766165\n",
      "전체 샘플 중 길이가 8 이하인 샘플의 비율: 0.8925782838552258\n"
     ]
    }
   ],
   "source": [
    "below_threshold_len(text_max_len, data['text'])\n",
    "below_threshold_len(headlines_max_len,  data['headlines'])"
   ]
  },
  {
   "cell_type": "code",
   "execution_count": 18,
   "id": "9cff2337",
   "metadata": {},
   "outputs": [],
   "source": [
    "data = data[data['text'].apply(lambda x: len(x.split()) <= text_max_len) & \n",
    "            data['headlines'].apply(lambda x: len(x.split()) <= headlines_max_len)]"
   ]
  },
  {
   "cell_type": "markdown",
   "id": "8a5049c3",
   "metadata": {},
   "source": [
    "## 시작 토큰과 종료 토큰 추가하기"
   ]
  },
  {
   "cell_type": "code",
   "execution_count": 19,
   "id": "6b4071d2",
   "metadata": {},
   "outputs": [
    {
     "data": {
      "text/html": [
       "<div>\n",
       "<style scoped>\n",
       "    .dataframe tbody tr th:only-of-type {\n",
       "        vertical-align: middle;\n",
       "    }\n",
       "\n",
       "    .dataframe tbody tr th {\n",
       "        vertical-align: top;\n",
       "    }\n",
       "\n",
       "    .dataframe thead th {\n",
       "        text-align: right;\n",
       "    }\n",
       "</style>\n",
       "<table border=\"1\" class=\"dataframe\">\n",
       "  <thead>\n",
       "    <tr style=\"text-align: right;\">\n",
       "      <th></th>\n",
       "      <th>headlines</th>\n",
       "      <th>text</th>\n",
       "      <th>decoder_input</th>\n",
       "      <th>decoder_target</th>\n",
       "    </tr>\n",
       "  </thead>\n",
       "  <tbody>\n",
       "    <tr>\n",
       "      <th>0</th>\n",
       "      <td>upgrad learner switches career ml al salary hike</td>\n",
       "      <td>saurav kant alumnus upgrad iiit pg program mac...</td>\n",
       "      <td>sostoken upgrad learner switches career ml al ...</td>\n",
       "      <td>eostokenupgrad learner switches career ml al ...</td>\n",
       "    </tr>\n",
       "    <tr>\n",
       "      <th>4</th>\n",
       "      <td>known hirani yrs metoo claims true sonam</td>\n",
       "      <td>speaking sexual harassment allegations rajkuma...</td>\n",
       "      <td>sostoken known hirani yrs metoo claims true sonam</td>\n",
       "      <td>eostokenknown hirani yrs metoo claims true sonam</td>\n",
       "    </tr>\n",
       "    <tr>\n",
       "      <th>6</th>\n",
       "      <td>india get lowest odi total new zealand</td>\n",
       "      <td>india recorded lowest odi total new zealand ge...</td>\n",
       "      <td>sostoken india get lowest odi total new zealand</td>\n",
       "      <td>eostokenindia get lowest odi total new zealand</td>\n",
       "    </tr>\n",
       "    <tr>\n",
       "      <th>7</th>\n",
       "      <td>govt directs alok verma join work day retirement</td>\n",
       "      <td>weeks ex cbi director alok verma told departme...</td>\n",
       "      <td>sostoken govt directs alok verma join work day...</td>\n",
       "      <td>eostokengovt directs alok verma join work day...</td>\n",
       "    </tr>\n",
       "    <tr>\n",
       "      <th>9</th>\n",
       "      <td>cong wins ramgarh bypoll rajasthan takes total...</td>\n",
       "      <td>congress candidate shafia zubair ramgarh assem...</td>\n",
       "      <td>sostoken cong wins ramgarh bypoll rajasthan ta...</td>\n",
       "      <td>eostokencong wins ramgarh bypoll rajasthan ta...</td>\n",
       "    </tr>\n",
       "  </tbody>\n",
       "</table>\n",
       "</div>"
      ],
      "text/plain": [
       "                                           headlines  \\\n",
       "0   upgrad learner switches career ml al salary hike   \n",
       "4           known hirani yrs metoo claims true sonam   \n",
       "6             india get lowest odi total new zealand   \n",
       "7   govt directs alok verma join work day retirement   \n",
       "9  cong wins ramgarh bypoll rajasthan takes total...   \n",
       "\n",
       "                                                text  \\\n",
       "0  saurav kant alumnus upgrad iiit pg program mac...   \n",
       "4  speaking sexual harassment allegations rajkuma...   \n",
       "6  india recorded lowest odi total new zealand ge...   \n",
       "7  weeks ex cbi director alok verma told departme...   \n",
       "9  congress candidate shafia zubair ramgarh assem...   \n",
       "\n",
       "                                       decoder_input  \\\n",
       "0  sostoken upgrad learner switches career ml al ...   \n",
       "4  sostoken known hirani yrs metoo claims true sonam   \n",
       "6    sostoken india get lowest odi total new zealand   \n",
       "7  sostoken govt directs alok verma join work day...   \n",
       "9  sostoken cong wins ramgarh bypoll rajasthan ta...   \n",
       "\n",
       "                                      decoder_target  \n",
       "0   eostokenupgrad learner switches career ml al ...  \n",
       "4   eostokenknown hirani yrs metoo claims true sonam  \n",
       "6     eostokenindia get lowest odi total new zealand  \n",
       "7   eostokengovt directs alok verma join work day...  \n",
       "9   eostokencong wins ramgarh bypoll rajasthan ta...  "
      ]
     },
     "execution_count": 19,
     "metadata": {},
     "output_type": "execute_result"
    }
   ],
   "source": [
    "data['decoder_input'] = data['headlines'].apply(lambda x: 'sostoken ' + x)\n",
    "data['decoder_target'] = data['headlines'].apply(lambda x: ' eostoken' + x)\n",
    "data.head()"
   ]
  },
  {
   "cell_type": "code",
   "execution_count": 20,
   "id": "0830b415",
   "metadata": {},
   "outputs": [],
   "source": [
    "encoder_input = np.array(data['text']) #인코더 입력\n",
    "decoder_input = np.array(data['decoder_input']) #디코더 입력\n",
    "decoder_target = np.array(data['decoder_target']) #디코더 레이블"
   ]
  },
  {
   "cell_type": "markdown",
   "id": "78aac713",
   "metadata": {},
   "source": [
    "## 훈련 데이터, 테스트 데이터 분리"
   ]
  },
  {
   "cell_type": "code",
   "execution_count": 21,
   "id": "3b2619fa",
   "metadata": {},
   "outputs": [
    {
     "name": "stdout",
     "output_type": "stream",
     "text": [
      "[50431  4380 17587 ... 52436 74793 54870]\n"
     ]
    }
   ],
   "source": [
    "indices = np.arange(encoder_input.shape[0])\n",
    "np.random.shuffle(indices)\n",
    "print(indices)"
   ]
  },
  {
   "cell_type": "code",
   "execution_count": 22,
   "id": "da595ac1",
   "metadata": {},
   "outputs": [],
   "source": [
    "encoder_input = encoder_input[indices]\n",
    "decoder_input = decoder_input[indices]\n",
    "decoder_target = decoder_target[indices]"
   ]
  },
  {
   "cell_type": "code",
   "execution_count": 23,
   "id": "fb27b6d8",
   "metadata": {},
   "outputs": [
    {
     "name": "stdout",
     "output_type": "stream",
     "text": [
      "테스트 데이터의 수 : 16382\n"
     ]
    }
   ],
   "source": [
    "n_of_val = int(len(encoder_input)*0.2)\n",
    "print('테스트 데이터의 수 :', n_of_val)"
   ]
  },
  {
   "cell_type": "code",
   "execution_count": 24,
   "id": "a773d4a5",
   "metadata": {
    "scrolled": true
   },
   "outputs": [
    {
     "name": "stdout",
     "output_type": "stream",
     "text": [
      "훈련 데이터의 개수 : 65532\n",
      "훈련 레이블의 개수 : 65532\n",
      "테스트 데이터의 개수 : 16382\n",
      "테스트 레이블의 개수 : 16382\n"
     ]
    }
   ],
   "source": [
    "encoder_input_train = encoder_input[:-n_of_val]\n",
    "decoder_input_train = decoder_input[:-n_of_val]\n",
    "decoder_target_train = decoder_target[:-n_of_val]\n",
    "\n",
    "encoder_input_test = encoder_input[-n_of_val:]\n",
    "decoder_input_test = decoder_input[-n_of_val:]\n",
    "decoder_target_test = decoder_target[-n_of_val:]\n",
    "\n",
    "print('훈련 데이터의 개수 :', len(encoder_input_train))\n",
    "print('훈련 레이블의 개수 :', len(decoder_input_train))\n",
    "print('테스트 데이터의 개수 :', len(encoder_input_test))\n",
    "print('테스트 레이블의 개수 :', len(decoder_input_test))"
   ]
  },
  {
   "cell_type": "markdown",
   "id": "d9aed2f8",
   "metadata": {},
   "source": [
    "## 단어 집합(vocabulary) 만들기 및 정수 인코딩"
   ]
  },
  {
   "cell_type": "code",
   "execution_count": 25,
   "id": "0c9d8c4f",
   "metadata": {},
   "outputs": [],
   "source": [
    "src_tokenizer = Tokenizer() # 토크나이저 정의\n",
    "src_tokenizer.fit_on_texts(encoder_input_train) # 입력된 데이터로부터 단어 집합 생성"
   ]
  },
  {
   "cell_type": "code",
   "execution_count": 26,
   "id": "0731f799",
   "metadata": {},
   "outputs": [
    {
     "name": "stdout",
     "output_type": "stream",
     "text": [
      "단어 집합(vocabulary)의 크기 : 63137\n",
      "등장 빈도가 6번 이하인 희귀 단어의 수: 43079\n",
      "단어 집합에서 희귀 단어를 제외시킬 경우의 단어 집합의 크기 20058\n",
      "단어 집합에서 희귀 단어의 비율: 68.23098975244311\n",
      "전체 등장 빈도에서 희귀 단어 등장 빈도 비율: 3.890294295370795\n"
     ]
    }
   ],
   "source": [
    "threshold = 7\n",
    "total_cnt = len(src_tokenizer.word_index) # 단어의 수\n",
    "rare_cnt = 0 # 등장 빈도수가 threshold보다 작은 단어의 개수를 카운트\n",
    "total_freq = 0 # 훈련 데이터의 전체 단어 빈도수 총 합\n",
    "rare_freq = 0 # 등장 빈도수가 threshold보다 작은 단어의 등장 빈도수의 총 합\n",
    "\n",
    "# 단어와 빈도수의 쌍(pair)을 key와 value로 받는다.\n",
    "for key, value in src_tokenizer.word_counts.items():\n",
    "    total_freq = total_freq + value\n",
    "\n",
    "    # 단어의 등장 빈도수가 threshold보다 작으면\n",
    "    if(value < threshold):\n",
    "        rare_cnt = rare_cnt + 1\n",
    "        rare_freq = rare_freq + value\n",
    "\n",
    "print('단어 집합(vocabulary)의 크기 :', total_cnt)\n",
    "print('등장 빈도가 %s번 이하인 희귀 단어의 수: %s'%(threshold - 1, rare_cnt))\n",
    "print('단어 집합에서 희귀 단어를 제외시킬 경우의 단어 집합의 크기 %s'%(total_cnt - rare_cnt))\n",
    "print(\"단어 집합에서 희귀 단어의 비율:\", (rare_cnt / total_cnt)*100)\n",
    "print(\"전체 등장 빈도에서 희귀 단어 등장 빈도 비율:\", (rare_freq / total_freq)*100)"
   ]
  },
  {
   "cell_type": "code",
   "execution_count": 27,
   "id": "5d33631b",
   "metadata": {},
   "outputs": [],
   "source": [
    "src_vocab = 8000\n",
    "src_tokenizer = Tokenizer(num_words=src_vocab) # 단어 집합의 크기를 8,000으로 제한\n",
    "src_tokenizer.fit_on_texts(encoder_input_train) # 단어 집합 재생성"
   ]
  },
  {
   "cell_type": "code",
   "execution_count": 28,
   "id": "13941ca9",
   "metadata": {},
   "outputs": [
    {
     "name": "stdout",
     "output_type": "stream",
     "text": [
      "[[546, 5265, 72, 75, 130, 366, 154, 1649, 277, 730, 72, 722, 1144, 486, 5096, 5096, 1119, 24, 324, 89, 2319, 36, 6727, 1807, 352, 456, 1850, 2, 5096, 5096, 5, 2925, 1154, 6017, 3026], [528, 193, 1363, 4192, 38, 2447, 49, 717, 5934, 3312, 1018, 1, 205, 308, 6448, 3082, 687, 721, 1063, 721, 23, 242, 438, 24, 28, 5, 2871, 2447, 2], [2246, 593, 23, 222, 950, 5514, 1785, 17, 274, 1003, 2085, 369, 897, 2246, 2169, 17, 2659, 1505, 3757, 355, 124, 2009, 92, 3446, 1355, 124, 82, 23, 1483, 81, 2065, 1505, 3757]]\n"
     ]
    }
   ],
   "source": [
    "# 텍스트 시퀀스를 정수 시퀀스로 변환\n",
    "encoder_input_train = src_tokenizer.texts_to_sequences(encoder_input_train) \n",
    "encoder_input_test = src_tokenizer.texts_to_sequences(encoder_input_test)\n",
    "\n",
    "# 잘 진행되었는지 샘플 출력\n",
    "print(encoder_input_train[:3])"
   ]
  },
  {
   "cell_type": "code",
   "execution_count": 29,
   "id": "1ea978fc",
   "metadata": {},
   "outputs": [],
   "source": [
    "tar_tokenizer = Tokenizer()\n",
    "tar_tokenizer.fit_on_texts(decoder_input_train)"
   ]
  },
  {
   "cell_type": "code",
   "execution_count": 30,
   "id": "8bcc3353",
   "metadata": {},
   "outputs": [
    {
     "name": "stdout",
     "output_type": "stream",
     "text": [
      "단어 집합(vocabulary)의 크기 : 27555\n",
      "등장 빈도가 5번 이하인 희귀 단어의 수: 18268\n",
      "단어 집합에서 희귀 단어를 제외시킬 경우의 단어 집합의 크기 9287\n",
      "단어 집합에서 희귀 단어의 비율: 66.29649791326439\n",
      "전체 등장 빈도에서 희귀 단어 등장 빈도 비율: 6.821332929991021\n"
     ]
    }
   ],
   "source": [
    "threshold = 6\n",
    "total_cnt = len(tar_tokenizer.word_index) # 단어의 수\n",
    "rare_cnt = 0 # 등장 빈도수가 threshold보다 작은 단어의 개수를 카운트\n",
    "total_freq = 0 # 훈련 데이터의 전체 단어 빈도수 총 합\n",
    "rare_freq = 0 # 등장 빈도수가 threshold보다 작은 단어의 등장 빈도수의 총 합\n",
    "\n",
    "# 단어와 빈도수의 쌍(pair)을 key와 value로 받는다.\n",
    "for key, value in tar_tokenizer.word_counts.items():\n",
    "    total_freq = total_freq + value\n",
    "\n",
    "    # 단어의 등장 빈도수가 threshold보다 작으면\n",
    "    if(value < threshold):\n",
    "        rare_cnt = rare_cnt + 1\n",
    "        rare_freq = rare_freq + value\n",
    "\n",
    "print('단어 집합(vocabulary)의 크기 :', total_cnt)\n",
    "print('등장 빈도가 %s번 이하인 희귀 단어의 수: %s'%(threshold - 1, rare_cnt))\n",
    "print('단어 집합에서 희귀 단어를 제외시킬 경우의 단어 집합의 크기 %s'%(total_cnt - rare_cnt))\n",
    "print(\"단어 집합에서 희귀 단어의 비율:\", (rare_cnt / total_cnt)*100)\n",
    "print(\"전체 등장 빈도에서 희귀 단어 등장 빈도 비율:\", (rare_freq / total_freq)*100)"
   ]
  },
  {
   "cell_type": "code",
   "execution_count": 31,
   "id": "00ed434a",
   "metadata": {},
   "outputs": [
    {
     "name": "stdout",
     "output_type": "stream",
     "text": [
      "input\n",
      "input  [[1, 55, 24], [1, 1458, 95, 42, 30], [1, 907, 1533, 10, 64, 1128, 758], [1, 819, 715, 281, 231, 171], [1, 1320, 116, 621, 19]]\n",
      "target\n",
      "decoder  [[55, 24], [95, 42, 30], [1533, 10, 64, 1128, 758], [819, 715, 281, 231, 171], [116, 621, 19]]\n"
     ]
    }
   ],
   "source": [
    "tar_vocab = 2000\n",
    "tar_tokenizer = Tokenizer(num_words=tar_vocab) \n",
    "tar_tokenizer.fit_on_texts(decoder_input_train)\n",
    "tar_tokenizer.fit_on_texts(decoder_target_train)\n",
    "\n",
    "# 텍스트 시퀀스를 정수 시퀀스로 변환\n",
    "decoder_input_train = tar_tokenizer.texts_to_sequences(decoder_input_train) \n",
    "decoder_target_train = tar_tokenizer.texts_to_sequences(decoder_target_train)\n",
    "decoder_input_test = tar_tokenizer.texts_to_sequences(decoder_input_test)\n",
    "decoder_target_test = tar_tokenizer.texts_to_sequences(decoder_target_test)\n",
    "\n",
    "# 잘 변환되었는지 확인\n",
    "print('input')\n",
    "print('input ',decoder_input_train[:5])\n",
    "print('target')\n",
    "print('decoder ',decoder_target_train[:5])"
   ]
  },
  {
   "cell_type": "code",
   "execution_count": 32,
   "id": "b19871f8",
   "metadata": {},
   "outputs": [
    {
     "name": "stdout",
     "output_type": "stream",
     "text": [
      "삭제할 훈련 데이터의 개수 : 259\n",
      "삭제할 테스트 데이터의 개수 : 59\n",
      "훈련 데이터의 개수 : 65273\n",
      "훈련 레이블의 개수 : 65273\n",
      "테스트 데이터의 개수 : 16323\n",
      "테스트 레이블의 개수 : 16323\n"
     ]
    }
   ],
   "source": [
    "drop_train = [index for index, sentence in enumerate(decoder_input_train) if len(sentence) == 1]\n",
    "drop_test = [index for index, sentence in enumerate(decoder_input_test) if len(sentence) == 1]\n",
    "\n",
    "print('삭제할 훈련 데이터의 개수 :', len(drop_train))\n",
    "print('삭제할 테스트 데이터의 개수 :', len(drop_test))\n",
    "\n",
    "encoder_input_train = [sentence for index, sentence in enumerate(encoder_input_train) if index not in drop_train]\n",
    "decoder_input_train = [sentence for index, sentence in enumerate(decoder_input_train) if index not in drop_train]\n",
    "decoder_target_train = [sentence for index, sentence in enumerate(decoder_target_train) if index not in drop_train]\n",
    "\n",
    "encoder_input_test = [sentence for index, sentence in enumerate(encoder_input_test) if index not in drop_test]\n",
    "decoder_input_test = [sentence for index, sentence in enumerate(decoder_input_test) if index not in drop_test]\n",
    "decoder_target_test = [sentence for index, sentence in enumerate(decoder_target_test) if index not in drop_test]\n",
    "\n",
    "print('훈련 데이터의 개수 :', len(encoder_input_train))\n",
    "print('훈련 레이블의 개수 :', len(decoder_input_train))\n",
    "print('테스트 데이터의 개수 :', len(encoder_input_test))\n",
    "print('테스트 레이블의 개수 :', len(decoder_input_test))"
   ]
  },
  {
   "cell_type": "markdown",
   "id": "6c0f92e4",
   "metadata": {},
   "source": [
    "## 패딩하기"
   ]
  },
  {
   "cell_type": "code",
   "execution_count": 33,
   "id": "338ddcd1",
   "metadata": {},
   "outputs": [],
   "source": [
    "encoder_input_train = pad_sequences(encoder_input_train, maxlen=text_max_len, padding='post')\n",
    "encoder_input_test = pad_sequences(encoder_input_test, maxlen=text_max_len, padding='post')\n",
    "decoder_input_train = pad_sequences(decoder_input_train, maxlen=headlines_max_len, padding='post')\n",
    "decoder_target_train = pad_sequences(decoder_target_train, maxlen=headlines_max_len, padding='post')\n",
    "decoder_input_test = pad_sequences(decoder_input_test, maxlen=headlines_max_len, padding='post')\n",
    "decoder_target_test = pad_sequences(decoder_target_test, maxlen=headlines_max_len, padding='post')"
   ]
  },
  {
   "cell_type": "markdown",
   "id": "95f70321",
   "metadata": {},
   "source": [
    "# Step 3. 어텐션 메커니즘 사용하기 (추상적 요약)\n",
    "일반적인 seq2seq보다는 어텐션 메커니즘을 사용한 seq2seq를 사용하는 것이 더 나은 성능을 얻을 수 있어요. 실습 내용을 참고하여 어텐션 메커니즘을 사용한 seq2seq를 설계해 보세요."
   ]
  },
  {
   "cell_type": "markdown",
   "id": "d4cba7b5",
   "metadata": {},
   "source": [
    "## 인코더 설계"
   ]
  },
  {
   "cell_type": "code",
   "execution_count": 34,
   "id": "0a60c1f0",
   "metadata": {},
   "outputs": [],
   "source": [
    "from tensorflow.keras.layers import Input, LSTM, Embedding, Dense, Concatenate, TimeDistributed\n",
    "from tensorflow.keras.models import Model\n",
    "from tensorflow.keras.callbacks import EarlyStopping, ModelCheckpoint\n",
    "\n",
    "\n",
    "# 인코더 설계 시작\n",
    "embedding_dim = 128\n",
    "hidden_size = 256\n",
    "\n",
    "# 인코더\n",
    "encoder_inputs = Input(shape=(text_max_len,))\n",
    "\n",
    "# 인코더의 임베딩 층\n",
    "enc_emb = Embedding(src_vocab, embedding_dim)(encoder_inputs)\n",
    "\n",
    "# 인코더의 LSTM 1\n",
    "encoder_lstm1 = LSTM(hidden_size, return_sequences=True, return_state=True ,dropout = 0.4)\n",
    "encoder_output1, state_h1, state_c1 = encoder_lstm1(enc_emb)\n",
    "\n",
    "# 인코더의 LSTM 2\n",
    "encoder_lstm2 = LSTM(hidden_size, return_sequences=True, return_state=True ,dropout = 0.4)\n",
    "encoder_output2, state_h2, state_c2 = encoder_lstm2(enc_emb)\n",
    "\n",
    "# 인코더의 LSTM 3\n",
    "encoder_lstm3 = LSTM(hidden_size, return_sequences=True, return_state=True ,dropout = 0.4)\n",
    "encoder_outputs, state_h, state_c = encoder_lstm3(enc_emb)"
   ]
  },
  {
   "cell_type": "markdown",
   "id": "8933191c",
   "metadata": {},
   "source": [
    "## 디코더 설계"
   ]
  },
  {
   "cell_type": "code",
   "execution_count": 35,
   "id": "10f72a44",
   "metadata": {},
   "outputs": [
    {
     "name": "stdout",
     "output_type": "stream",
     "text": [
      "Model: \"model\"\n",
      "__________________________________________________________________________________________________\n",
      "Layer (type)                    Output Shape         Param #     Connected to                     \n",
      "==================================================================================================\n",
      "input_1 (InputLayer)            [(None, 40)]         0                                            \n",
      "__________________________________________________________________________________________________\n",
      "input_2 (InputLayer)            [(None, None)]       0                                            \n",
      "__________________________________________________________________________________________________\n",
      "embedding (Embedding)           (None, 40, 128)      1024000     input_1[0][0]                    \n",
      "__________________________________________________________________________________________________\n",
      "embedding_1 (Embedding)         (None, None, 128)    256000      input_2[0][0]                    \n",
      "__________________________________________________________________________________________________\n",
      "lstm_2 (LSTM)                   [(None, 40, 256), (N 394240      embedding[0][0]                  \n",
      "__________________________________________________________________________________________________\n",
      "lstm_3 (LSTM)                   [(None, None, 256),  394240      embedding_1[0][0]                \n",
      "                                                                 lstm_2[0][1]                     \n",
      "                                                                 lstm_2[0][2]                     \n",
      "__________________________________________________________________________________________________\n",
      "dense (Dense)                   (None, None, 2000)   514000      lstm_3[0][0]                     \n",
      "==================================================================================================\n",
      "Total params: 2,582,480\n",
      "Trainable params: 2,582,480\n",
      "Non-trainable params: 0\n",
      "__________________________________________________________________________________________________\n"
     ]
    }
   ],
   "source": [
    "# 디코더 설계\n",
    "decoder_inputs = Input(shape=(None,))\n",
    "\n",
    "# 디코더의 임베딩 층\n",
    "dec_emb_layer = Embedding(tar_vocab, embedding_dim)\n",
    "dec_emb = dec_emb_layer(decoder_inputs)\n",
    "\n",
    "# 디코더의 LSTM\n",
    "# decoder_lstm = LSTM(hidden_size, return_sequences=True, return_state=True, dropout=0.4, recurrent_dropout=0.2)\n",
    "decoder_lstm = LSTM(hidden_size, return_sequences=True, return_state=True, dropout=0.4)\n",
    "decoder_outputs, _, _ = decoder_lstm(dec_emb, initial_state=[state_h, state_c])\n",
    "\n",
    "# 디코더의 출력층\n",
    "decoder_softmax_layer = Dense(tar_vocab, activation='softmax')\n",
    "decoder_softmax_outputs = decoder_softmax_layer(decoder_outputs) \n",
    "\n",
    "# 모델 정의\n",
    "model = Model([encoder_inputs, decoder_inputs], decoder_softmax_outputs)\n",
    "model.summary()"
   ]
  },
  {
   "cell_type": "markdown",
   "id": "f4dcfb25",
   "metadata": {},
   "source": [
    "## 어텐션 메커니즘"
   ]
  },
  {
   "cell_type": "code",
   "execution_count": 36,
   "id": "dbe03b9f",
   "metadata": {},
   "outputs": [
    {
     "name": "stdout",
     "output_type": "stream",
     "text": [
      "Model: \"model_1\"\n",
      "__________________________________________________________________________________________________\n",
      "Layer (type)                    Output Shape         Param #     Connected to                     \n",
      "==================================================================================================\n",
      "input_1 (InputLayer)            [(None, 40)]         0                                            \n",
      "__________________________________________________________________________________________________\n",
      "input_2 (InputLayer)            [(None, None)]       0                                            \n",
      "__________________________________________________________________________________________________\n",
      "embedding (Embedding)           (None, 40, 128)      1024000     input_1[0][0]                    \n",
      "__________________________________________________________________________________________________\n",
      "embedding_1 (Embedding)         (None, None, 128)    256000      input_2[0][0]                    \n",
      "__________________________________________________________________________________________________\n",
      "lstm_2 (LSTM)                   [(None, 40, 256), (N 394240      embedding[0][0]                  \n",
      "__________________________________________________________________________________________________\n",
      "lstm_3 (LSTM)                   [(None, None, 256),  394240      embedding_1[0][0]                \n",
      "                                                                 lstm_2[0][1]                     \n",
      "                                                                 lstm_2[0][2]                     \n",
      "__________________________________________________________________________________________________\n",
      "attention_layer (AdditiveAttent (None, None, 256)    256         lstm_3[0][0]                     \n",
      "                                                                 lstm_2[0][0]                     \n",
      "__________________________________________________________________________________________________\n",
      "concat_layer (Concatenate)      (None, None, 512)    0           lstm_3[0][0]                     \n",
      "                                                                 attention_layer[0][0]            \n",
      "__________________________________________________________________________________________________\n",
      "dense_1 (Dense)                 (None, None, 2000)   1026000     concat_layer[0][0]               \n",
      "==================================================================================================\n",
      "Total params: 3,094,736\n",
      "Trainable params: 3,094,736\n",
      "Non-trainable params: 0\n",
      "__________________________________________________________________________________________________\n"
     ]
    }
   ],
   "source": [
    "from tensorflow.keras.layers import AdditiveAttention\n",
    "\n",
    "attn_layer = AdditiveAttention(name='attention_layer')\n",
    "attn_out = attn_layer([decoder_outputs, encoder_outputs])\n",
    "\n",
    "decoder_concat_input = Concatenate(axis=-1, name='concat_layer')([decoder_outputs, attn_out])\n",
    "\n",
    "decoder_softmax_layer = Dense(tar_vocab, activation='softmax')\n",
    "decoder_softmax_outputs = decoder_softmax_layer(decoder_concat_input)\n",
    "\n",
    "model = Model([encoder_inputs, decoder_inputs], decoder_softmax_outputs)\n",
    "model.summary()"
   ]
  },
  {
   "cell_type": "code",
   "execution_count": 37,
   "id": "71a76a84",
   "metadata": {},
   "outputs": [
    {
     "name": "stdout",
     "output_type": "stream",
     "text": [
      "Epoch 1/50\n",
      "255/255 [==============================] - 13s 31ms/step - loss: 3.9695 - val_loss: 3.7989\n",
      "Epoch 2/50\n",
      "255/255 [==============================] - 7s 29ms/step - loss: 3.6726 - val_loss: 3.4872\n",
      "Epoch 3/50\n",
      "255/255 [==============================] - 7s 29ms/step - loss: 3.4076 - val_loss: 3.2915\n",
      "Epoch 4/50\n",
      "255/255 [==============================] - 7s 29ms/step - loss: 3.2067 - val_loss: 3.1299\n",
      "Epoch 5/50\n",
      "255/255 [==============================] - 7s 29ms/step - loss: 3.0522 - val_loss: 3.0288\n",
      "Epoch 6/50\n",
      "255/255 [==============================] - 7s 29ms/step - loss: 2.9278 - val_loss: 2.9418\n",
      "Epoch 7/50\n",
      "255/255 [==============================] - 7s 29ms/step - loss: 2.8182 - val_loss: 2.8756\n",
      "Epoch 8/50\n",
      "255/255 [==============================] - 7s 29ms/step - loss: 2.7255 - val_loss: 2.8213\n",
      "Epoch 9/50\n",
      "255/255 [==============================] - 7s 29ms/step - loss: 2.6424 - val_loss: 2.7816\n",
      "Epoch 10/50\n",
      "255/255 [==============================] - 7s 29ms/step - loss: 2.5657 - val_loss: 2.7495\n",
      "Epoch 11/50\n",
      "255/255 [==============================] - 8s 30ms/step - loss: 2.4963 - val_loss: 2.7268\n",
      "Epoch 12/50\n",
      "255/255 [==============================] - 8s 30ms/step - loss: 2.4301 - val_loss: 2.6953\n",
      "Epoch 13/50\n",
      "255/255 [==============================] - 8s 30ms/step - loss: 2.3673 - val_loss: 2.6725\n",
      "Epoch 14/50\n",
      "255/255 [==============================] - 8s 30ms/step - loss: 2.3076 - val_loss: 2.6598\n",
      "Epoch 15/50\n",
      "255/255 [==============================] - 8s 30ms/step - loss: 2.2505 - val_loss: 2.6405\n",
      "Epoch 16/50\n",
      "255/255 [==============================] - 8s 30ms/step - loss: 2.1968 - val_loss: 2.6260\n",
      "Epoch 17/50\n",
      "255/255 [==============================] - 8s 30ms/step - loss: 2.1452 - val_loss: 2.6199\n",
      "Epoch 18/50\n",
      "255/255 [==============================] - 8s 31ms/step - loss: 2.0945 - val_loss: 2.6084\n",
      "Epoch 19/50\n",
      "255/255 [==============================] - 8s 30ms/step - loss: 2.0471 - val_loss: 2.6027\n",
      "Epoch 20/50\n",
      "255/255 [==============================] - 8s 30ms/step - loss: 2.0014 - val_loss: 2.6000\n",
      "Epoch 21/50\n",
      "255/255 [==============================] - 8s 30ms/step - loss: 1.9586 - val_loss: 2.5985\n",
      "Epoch 22/50\n",
      "255/255 [==============================] - 8s 30ms/step - loss: 1.9180 - val_loss: 2.5878\n",
      "Epoch 23/50\n",
      "255/255 [==============================] - 8s 30ms/step - loss: 1.8778 - val_loss: 2.5963\n",
      "Epoch 24/50\n",
      "255/255 [==============================] - 8s 30ms/step - loss: 1.8409 - val_loss: 2.5914\n",
      "Epoch 00024: early stopping\n"
     ]
    }
   ],
   "source": [
    "model.compile(optimizer='rmsprop', loss='sparse_categorical_crossentropy')\n",
    "es = EarlyStopping(monitor='val_loss', patience=2, verbose=1)\n",
    "history = model.fit(x=[encoder_input_train, decoder_input_train], y=decoder_target_train, \\\n",
    "          validation_data=([encoder_input_test, decoder_input_test], decoder_target_test), \\\n",
    "          batch_size=256, callbacks=[es], epochs=50)"
   ]
  },
  {
   "cell_type": "code",
   "execution_count": 38,
   "id": "2f28e6c3",
   "metadata": {},
   "outputs": [
    {
     "data": {
      "image/png": "[encoded data removed]",
      "text/plain": [
       "<Figure size 432x288 with 1 Axes>"
      ]
     },
     "metadata": {
      "needs_background": "light"
     },
     "output_type": "display_data"
    }
   ],
   "source": [
    "plt.plot(history.history['loss'], label='train')\n",
    "plt.plot(history.history['val_loss'], label='test')\n",
    "plt.legend()\n",
    "plt.show()"
   ]
  },
  {
   "cell_type": "markdown",
   "id": "bcc3f5f2",
   "metadata": {},
   "source": [
    "## 인퍼런스 모델 구현하기"
   ]
  },
  {
   "cell_type": "code",
   "execution_count": 53,
   "id": "dbb8c46f",
   "metadata": {},
   "outputs": [],
   "source": [
    "src_index_to_word = src_tokenizer.index_word # 원문 단어 집합에서 정수 -> 단어를 얻음\n",
    "tar_word_to_index = tar_tokenizer.word_index # 요약 단어 집합에서 단어 -> 정수를 얻음\n",
    "tar_index_to_word = tar_tokenizer.index_word # 요약 단어 집합에서 정수 -> 단어를 얻음\n",
    "tar_index_to_word[0] = ''  # padding 대응용"
   ]
  },
  {
   "cell_type": "code",
   "execution_count": 40,
   "id": "1a477423",
   "metadata": {},
   "outputs": [],
   "source": [
    "# 인코더 설계\n",
    "encoder_model = Model(inputs=encoder_inputs, outputs=[encoder_outputs, state_h, state_c])\n",
    "\n",
    "# 이전 시점의 상태들을 저장하는 텐서\n",
    "decoder_state_input_h = Input(shape=(hidden_size,))\n",
    "decoder_state_input_c = Input(shape=(hidden_size,))\n",
    "\n",
    "dec_emb2 = dec_emb_layer(decoder_inputs)\n",
    "\n",
    "# 문장의 다음 단어를 예측하기 위해서 초기 상태(initial_state)를 이전 시점의 상태로 사용. 이는 뒤의 함수 decode_sequence()에 구현\n",
    "# 훈련 과정에서와 달리 LSTM의 리턴하는 은닉 상태와 셀 상태인 state_h와 state_c를 버리지 않음.\n",
    "decoder_outputs2, state_h2, state_c2 = decoder_lstm(dec_emb2, initial_state=[decoder_state_input_h, decoder_state_input_c])"
   ]
  },
  {
   "cell_type": "code",
   "execution_count": 41,
   "id": "e0631f89",
   "metadata": {},
   "outputs": [],
   "source": [
    "# 어텐션 함수\n",
    "decoder_hidden_state_input = Input(shape=(text_max_len, hidden_size))\n",
    "attn_out_inf = attn_layer([decoder_outputs2, decoder_hidden_state_input])\n",
    "decoder_inf_concat = Concatenate(axis=-1, name='concat')([decoder_outputs2, attn_out_inf])\n",
    "\n",
    "# 디코더의 출력층\n",
    "decoder_outputs2 = decoder_softmax_layer(decoder_inf_concat) \n",
    "\n",
    "# 최종 디코더 모델\n",
    "decoder_model = Model(\n",
    "    [decoder_inputs] + [decoder_hidden_state_input,decoder_state_input_h, decoder_state_input_c],\n",
    "    [decoder_outputs2] + [state_h2, state_c2])"
   ]
  },
  {
   "cell_type": "code",
   "execution_count": 59,
   "id": "95f1813c",
   "metadata": {},
   "outputs": [],
   "source": [
    "import time # 시간 측정을 위해 추가\n",
    "\n",
    "def decode_sequence(input_seq):\n",
    "    # 입력으로부터 인코더의 상태를 얻음\n",
    "    e_out, e_h, e_c = encoder_model.predict(input_seq)\n",
    "    print(\"Encoder prediction done.\") # 인코더 예측 완료 시점 확인\n",
    "\n",
    "    # <SOS> 토큰 생성\n",
    "    target_seq = np.zeros((1,1))\n",
    "    target_seq[0, 0] = tar_word_to_index.get('sostoken', -1)\n",
    "\n",
    "    stop_condition = False\n",
    "    decoded_sentence = ''\n",
    "    step = 0 # 스텝 카운터\n",
    "    \n",
    "    while not stop_condition: \n",
    "        step += 1\n",
    "#         print(f\"  [Step {step}] Decoding started...\") # 각 스텝 시작 알림\n",
    "\n",
    "        start_time = time.time() # predict 시작 시간 기록\n",
    "        # 이전 상태를 초기 상태로 사용\n",
    "        output_tokens, h, c = decoder_model.predict([target_seq] + [e_out, e_h, e_c])\n",
    "        predict_time = time.time() - start_time # predict 소요 시간 계산\n",
    "#         print(f\"  [Step {step}] Decoder prediction done (took {predict_time:.4f}s).\") # 예측 완료 및 시간 출력\n",
    "\n",
    "        # 가장 확률 높은 토큰 인덱스 찾기\n",
    "        sampled_token_index = np.argmax(output_tokens[0, -1, :])\n",
    "        # 인덱스를 단어로 변환 (.get 사용 권장, 없으면 'UNK' 등으로 표시)\n",
    "        sampled_token = tar_index_to_word.get(sampled_token_index, f'UNK_IDX_{sampled_token_index}') \n",
    "#         print(f\"  [Step {step}] Predicted token: '{sampled_token}' (Index: {sampled_token_index})\")\n",
    "\n",
    "        if (sampled_token!='eostoken' and not sampled_token.startswith('UNK_IDX')): # UNK 토큰은 문장에 추가하지 않음 (선택적)\n",
    "            decoded_sentence += ' '+sampled_token\n",
    "#         print(f\"  [Step {step}] Current sentence: '{decoded_sentence.strip()}'\")\n",
    "\n",
    "        # 종료 조건 확인\n",
    "        if (sampled_token == 'eostoken'  or len(decoded_sentence.split()) >= (headlines_max_len-1)):\n",
    "#             print(f\"  [Step {step}] Stop condition met (token: {sampled_token}, length: {len(decoded_sentence.split())})\")\n",
    "            stop_condition = True\n",
    "\n",
    "        # 다음 입력 설정\n",
    "        target_seq = np.zeros((1,1))\n",
    "        target_seq[0, 0] = sampled_token_index\n",
    "\n",
    "        # 상태 업데이트\n",
    "        e_h, e_c = h, c\n",
    "        \n",
    "        # (선택적) 무한 루프 방지용 최대 스텝 제한\n",
    "        if step >= headlines_max_len + 2: # 최대 길이보다 조금 더 여유롭게 설정\n",
    "#              print(f\"  [Step {step}] Reached max steps, forcing stop.\")\n",
    "             stop_condition = True\n",
    "\n",
    "    return decoded_sentence.strip()"
   ]
  },
  {
   "cell_type": "markdown",
   "id": "3a0a5b24",
   "metadata": {},
   "source": [
    "# Step 4. 실제 결과와 요약문 비교하기 (추상적 요약)\n",
    "원래의 요약문(headlines 열)과 학습을 통해 얻은 추상적 요약의 결과를 비교해 보세요."
   ]
  },
  {
   "cell_type": "markdown",
   "id": "2ed6dbd0",
   "metadata": {},
   "source": [
    "## 모델 테스트하기"
   ]
  },
  {
   "cell_type": "code",
   "execution_count": 60,
   "id": "30828657",
   "metadata": {},
   "outputs": [],
   "source": [
    "# 원문의 정수 시퀀스를 텍스트 시퀀스로 변환\n",
    "def seq2text(input_seq):\n",
    "    temp=''\n",
    "    for i in input_seq:\n",
    "        if (i!=0):\n",
    "            temp = temp + src_index_to_word[i]+' '\n",
    "    return temp\n",
    "\n",
    "# 요약문의 정수 시퀀스를 텍스트 시퀀스로 변환\n",
    "def seq2headlines(input_seq):\n",
    "    temp = ''\n",
    "    \n",
    "    sostoken_index = tar_word_to_index.get('sostoken', -1) \n",
    "    eostoken_index = tar_word_to_index.get('eostoken', -1)\n",
    "    \n",
    "    for i in input_seq:\n",
    "        # 0 (패딩), 'sostoken' 인덱스, 'eostoken' 인덱스를 제외\n",
    "        if i != 0 and i != sostoken_index and i != eostoken_index:\n",
    "             # .get() 메소드를 사용하여 사전에 없는 인덱스일 경우 빈 문자열 반환 (오류 방지)\n",
    "            word = tar_index_to_word.get(i, '') \n",
    "            if word: # 빈 문자열이 아닐 경우에만 공백과 함께 추가\n",
    "                temp = temp + word + ' '\n",
    "    return temp.strip() # 문자열 앞뒤 공백 제거"
   ]
  },
  {
   "cell_type": "code",
   "execution_count": 62,
   "id": "2e71bf69",
   "metadata": {
    "scrolled": true
   },
   "outputs": [
    {
     "name": "stdout",
     "output_type": "stream",
     "text": [
      "Processing sample 50...\n",
      "원문 : four people reported dead major fire broke lucknow international hotel tuesday around people staying hotel fire started however evacuated safety police said strict action taken hotel investigation part police added \n",
      "실제 요약 : dead fire breaks lucknow hotel\n",
      "Encoder prediction done.\n",
      "예측 요약 : fire hotel fire\n",
      "\n",
      "\n",
      "Processing sample 51...\n",
      "원문 : bjp led nda government defeated confidence motion lok sabha bjp leader rao saturday said trailer people country seen floor parliament happen congress party move yet another confidence vote pm added \n",
      "실제 요약 : trailer bjp motion vote\n",
      "Encoder prediction done.\n",
      "예측 요약 : eostokenbjp bjp\n",
      "\n",
      "\n",
      "Processing sample 52...\n",
      "원문 : talking first ever tour england brian lara said threw keys car gifted towards sat passenger seat knew roads england lara revealed delivering spirit cricket lord cricket ground london \n",
      "실제 요약 : recalls time driver\n",
      "Encoder prediction done.\n",
      "예측 요약 : first run\n",
      "\n",
      "\n",
      "Processing sample 53...\n",
      "원문 : two women reported drowned punjab canal taking selfie allegedly fled mumbai unidentified persons women visited canal another sister returned home hours claiming duo drowned however later revealed fled mumbai life \n",
      "실제 요약 : women reported punjab may mumbai\n",
      "Encoder prediction done.\n",
      "예측 요약 : eostokenmumbai selfie gujarat\n",
      "\n",
      "\n",
      "Processing sample 54...\n",
      "원문 : government reportedly planning sell air india iconic building mumbai country largest container port following failed stake sale attempt storey building point also served airline headquarters building air india six floors annual rent crore \n",
      "실제 요약 : government plans sell air india mumbai building\n",
      "Encoder prediction done.\n",
      "예측 요약 : eostokenair india mumbai air crore\n",
      "\n",
      "\n",
      "Processing sample 55...\n",
      "원문 : jury awarded million customer broke hip picking walmart store us state customer foot got stuck stepped wooden get fruit lawyer argued retail giant covered \n",
      "실제 요약 : walmart wins cr injury due\n",
      "Encoder prediction done.\n",
      "예측 요약 : eostokenman store store\n",
      "\n",
      "\n",
      "Processing sample 56...\n",
      "원문 : china built new platform bombay part islands disputed south china sea us based think tank asia maritime transparency initiative claimed think tank added structure could used military purposes china claims disputed south china sea \n",
      "실제 요약 : china bombay china sea report\n",
      "Encoder prediction done.\n",
      "예측 요약 : eostokenchina china sea south china sea\n",
      "\n",
      "\n",
      "Processing sample 57...\n",
      "원문 : bombay stock exchange wednesday announced creation new division within small medium enterprises segment list startups startups seeking listing least two years time filing referred national company law tribunal insolvency bankruptcy code \n",
      "실제 요약 : creates new startups\n",
      "Encoder prediction done.\n",
      "예측 요약 : announces startups startups\n",
      "\n",
      "\n",
      "Processing sample 58...\n",
      "원문 : uk university scientists claim uncovered largest volcanic region earth addition already known two kilometres antarctic ice sheet new found ranging metres height covered km thick ice km long region antarctica largest ice antarctic peninsula \n",
      "실제 요약 : scientists ice\n",
      "Encoder prediction done.\n",
      "예측 요약 : found km found\n",
      "\n",
      "\n",
      "Processing sample 59...\n",
      "원문 : us woman claimed drinking liquor smoking marijuana night infant son died sentenced years prison year old told investigators find baby beat hell convicted baby skull broken cuts \n",
      "실제 요약 : woman baby death gets yrs jail\n",
      "Encoder prediction done.\n",
      "예측 요약 : eostokenwoman mother son\n",
      "\n",
      "\n"
     ]
    }
   ],
   "source": [
    "for i in range(50, 60):\n",
    "    print(f\"Processing sample {i}...\") # 진행 상황 출력\n",
    "    print(\"원문 :\", seq2text(encoder_input_test[i]))\n",
    "    print(\"실제 요약 :\", seq2headlines(decoder_input_test[i]))\n",
    "    print(\"예측 요약 :\", decode_sequence(encoder_input_test[i].reshape(1, text_max_len)))\n",
    "    print(\"\\n\")"
   ]
  },
  {
   "cell_type": "markdown",
   "id": "9eb75092",
   "metadata": {},
   "source": [
    "# Step 5. Summa을 이용해서 추출적 요약해보기, Extractive 요약, Abstractive 요약 결과 비교"
   ]
  },
  {
   "cell_type": "code",
   "execution_count": 93,
   "id": "8fd4f77b",
   "metadata": {},
   "outputs": [
    {
     "name": "stdout",
     "output_type": "stream",
     "text": [
      "--- 추출적 요약 (Summa) ---\n",
      "\n",
      "[원본 텍스트]\n",
      "Former Finance Minister Yashwant Sinha on Tuesday demanded a probe into the alleged diversion of loans worth Ã¢ÂÂ¹31,000 crore by Dewan Housing Finance (DHFL). All agencies including regulators of the government have failed to track nefarious deals, he said. This comes after a media report on Tuesday accused DHFL's controlling shareholders of diverting funds to shell companies to buy assets.\n",
      "\n",
      "[추출적 요약 결과 (약 25단어)]\n",
      "Former Finance Minister Yashwant Sinha on Tuesday demanded a probe into the alleged diversion of loans worth Ã¢ÂÂ¹31,000 crore by Dewan Housing Finance (DHFL).\n",
      "\n",
      "추상적 요약:\n",
      "Encoder prediction done.\n",
      "central central\n"
     ]
    }
   ],
   "source": [
    "import requests\n",
    "from summa.summarizer import summarize\n",
    "\n",
    "try:\n",
    "    original_data = pd.read_csv('news_summary_more.csv', encoding='iso-8859-1')\n",
    "    \n",
    "    original_data.dropna(subset=['text'], inplace=True)\n",
    "    original_data.drop_duplicates(subset=['text'], inplace=True)\n",
    "    original_data.reset_index(drop=True, inplace=True) # 인덱스 재설정\n",
    "except FileNotFoundError:\n",
    "    print(\"Error: 'news_summary_more.csv' 파일을 찾을 수 없습니다.\")\n",
    "    original_data = None\n",
    "\n",
    "# 요약을 수행할 샘플 선택 (예: 50번째 기사)\n",
    "# 이 인덱스는 위에서 로드/정리한 original_data 기준입니다.\n",
    "sample_index = 50\n",
    "\n",
    "if original_data is not None and sample_index < len(original_data):\n",
    "    # 선택한 샘플의 원본 'text' 가져오기\n",
    "    original_text_to_summarize = original_data['text'].iloc[sample_index]\n",
    "\n",
    "    print(\"--- 추출적 요약 (Summa) ---\")\n",
    "    print(\"\\n[원본 텍스트]\")\n",
    "    print(original_text_to_summarize)\n",
    "\n",
    "    # summarize 함수 사용 (ratio 또는 words 파라미터 사용)\n",
    "    # ratio: 원본 텍스트 대비 요약문의 비율 (예: 0.2 = 20%)\n",
    "    # words: 요약문의 최대 단어 수 지정 (결과는 근사치일 수 있음)\n",
    "    print(\"\\n[추출적 요약 결과 (약 25단어)]\")\n",
    "    summary_result_words = summarize(original_text_to_summarize, words=25)\n",
    "    print(summary_result_words)\n",
    "    \n",
    "    preprocessed_text = preprocess_sentence(original_text_to_summarize)\n",
    "    sequence = tar_tokenizer.texts_to_sequences([preprocessed_text])\n",
    "    padded_seq = pad_sequences(sequence, maxlen=text_max_len, padding='post')\n",
    "\n",
    "    # 추상적 요약 (모델 디코딩)\n",
    "    print(\"\\n추상적 요약:\")\n",
    "\n",
    "    print(decode_sequence(padded_seq))\n"
   ]
  },
  {
   "cell_type": "markdown",
   "id": "1bd40b4d",
   "metadata": {},
   "source": [
    "## 📊 분석 결과표\n",
    "\n",
    "| 항목 | 추출적 요약 | 추상적 요약 |\n",
    "|------|--------------|--------------|\n",
    "| **요약 방식** | 원문에서 핵심 문장을 발췌 | 원문 내용을 재구성해 새 문장 생성 |\n",
    "| **정확성** | 높음 | 매우 낮음 |\n",
    "| **자연스러움** | 자연스러움 | 부자연스럽고 의미 없음 |\n",
    "| **정보 보존** | 주요 정보 대부분 포함 | 정보 손실 심각 |\n",
    "| **개선 필요성** | 낮음 | 높음 (모델 재학습 필요) |\n"
   ]
  },
  {
   "cell_type": "code",
   "execution_count": null,
   "id": "c42286f8",
   "metadata": {},
   "outputs": [],
   "source": []
  }
 ],
 "metadata": {
  "kernelspec": {
   "display_name": "Python 3 (ipykernel)",
   "language": "python",
   "name": "python3"
  },
  "language_info": {
   "codemirror_mode": {
    "name": "ipython",
    "version": 3
   },
   "file_extension": ".py",
   "mimetype": "text/x-python",
   "name": "python",
   "nbconvert_exporter": "python",
   "pygments_lexer": "ipython3",
   "version": "3.9.7"
  }
 },
 "nbformat": 4,
 "nbformat_minor": 5
}
